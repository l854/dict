{
 "cells": [
  {
   "cell_type": "code",
   "execution_count": 18,
   "metadata": {},
   "outputs": [],
   "source": [
    "import requests\n",
    "import re\n",
    "import pymongo"
   ]
  },
  {
   "cell_type": "code",
   "execution_count": 19,
   "metadata": {},
   "outputs": [],
   "source": [
    "cli = pymongo.MongoClient('mongodb://localhost:27017')\n",
    "coll = cli.test.txt\n",
    "coky = cli.test.key"
   ]
  },
  {
   "cell_type": "code",
   "execution_count": 20,
   "metadata": {},
   "outputs": [],
   "source": [
    "def fetchSentences(w):\n",
    "    x1=re.compile('<div class=\"sen_en\">(.*?)</div>')\n",
    "    x2=re.compile('<div class=\"sen_cn\">(.*?)</div>')\n",
    "    k=0\n",
    "    b1=x1.search(t)\n",
    "    b2=x2.search(t)\n",
    "    while b1 and b2:\n",
    "        k=max(b1.end(1),b2.end(1))\n",
    "        c1=re.sub('<.*?>','',b1.group(1))\n",
    "        c2=re.sub('<.*?>','',b2.group(1))\n",
    "        coll.insert_one({'key':w,'en':c1,'zh':c2,'visit':0})\n",
    "        b1=x1.search(t,k+1)\n",
    "        b2=x2.search(t,k+1)\n"
   ]
  },
  {
   "cell_type": "code",
   "execution_count": 22,
   "metadata": {},
   "outputs": [
    {
     "name": "stdout",
     "output_type": "stream",
     "text": [
      "'NoneType' object has no attribute 'group'\n",
      "'NoneType' object has no attribute 'group'\n",
      "'NoneType' object has no attribute 'group'\n",
      "'NoneType' object has no attribute 'group'\n",
      "'NoneType' object has no attribute 'group'\n",
      "'NoneType' object has no attribute 'group'\n",
      "'NoneType' object has no attribute 'group'\n",
      "'NoneType' object has no attribute 'group'\n",
      "'NoneType' object has no attribute 'group'\n",
      "'NoneType' object has no attribute 'group'\n",
      "'NoneType' object has no attribute 'group'\n",
      "'NoneType' object has no attribute 'group'\n",
      "'NoneType' object has no attribute 'group'\n",
      "'NoneType' object has no attribute 'group'\n",
      "'NoneType' object has no attribute 'group'\n",
      "'NoneType' object has no attribute 'group'\n",
      "'NoneType' object has no attribute 'group'\n",
      "'NoneType' object has no attribute 'group'\n",
      "'NoneType' object has no attribute 'group'\n",
      "HTTPSConnectionPool(host='cn.bing.com', port=443): Max retries exceeded with url: /dict/search?q=hesitant%0A&go=Search&qs=ds&form=Z9LH5 (Caused by SSLError(SSLError(\"bad handshake: SysCallError(104, 'ECONNRESET')\",),))\n",
      "'NoneType' object has no attribute 'group'\n",
      "'NoneType' object has no attribute 'group'\n",
      "'NoneType' object has no attribute 'group'\n",
      "'NoneType' object has no attribute 'group'\n",
      "'NoneType' object has no attribute 'group'\n",
      "'NoneType' object has no attribute 'group'\n",
      "'NoneType' object has no attribute 'group'\n",
      "'NoneType' object has no attribute 'group'\n",
      "'NoneType' object has no attribute 'group'\n",
      "'NoneType' object has no attribute 'group'\n",
      "'NoneType' object has no attribute 'group'\n",
      "'NoneType' object has no attribute 'group'\n",
      "'NoneType' object has no attribute 'group'\n",
      "'NoneType' object has no attribute 'group'\n",
      "'NoneType' object has no attribute 'group'\n",
      "'NoneType' object has no attribute 'group'\n",
      "'NoneType' object has no attribute 'group'\n"
     ]
    }
   ],
   "source": [
    "f = open('words','r')\n",
    "ws = f.readlines()\n",
    "#ws = ['conspicuous','allusion','sagacious']\n",
    "for w in ws:\n",
    "    try:\n",
    "        r=requests.get('https://cn.bing.com/dict/search?q='+w+'&go=Search&qs=ds&form=Z9LH5')\n",
    "        t=r.text\n",
    "        x=re.search('<div class=\"se_lis\">.*?<table>(.*?)</table>',t).group(1)\n",
    "        coky.insert_one({'key':w,'se_lis':'<table>'+x+'</table>','visit':0})\n",
    "        fetchSentences(w)\n",
    "    except Exception as ex:\n",
    "        print(w,ex)"
   ]
  },
  {
   "cell_type": "code",
   "execution_count": 5,
   "metadata": {},
   "outputs": [],
   "source": [
    "\n"
   ]
  },
  {
   "cell_type": "code",
   "execution_count": 6,
   "metadata": {},
   "outputs": [
    {
     "data": {
      "text/plain": [
       "<pymongo.results.InsertOneResult at 0x7f264f1611c8>"
      ]
     },
     "execution_count": 6,
     "metadata": {},
     "output_type": "execute_result"
    }
   ],
   "source": [
    "import pymongo\n",
    "cli = pymongo.MongoClient('mongodb://localhost:27017/test')\n",
    "db = cli.test\n",
    "coll = db.st\n",
    "student = {\n",
    "    'id':123,\n",
    "    'name':'good'\n",
    "}\n",
    "coll.insert_one(student)"
   ]
  },
  {
   "cell_type": "markdown",
   "metadata": {},
   "source": [
    "342326195902051011   006686  1991.07  1998.09"
   ]
  }
 ],
 "metadata": {
  "kernelspec": {
   "display_name": "Python 3",
   "language": "python",
   "name": "python3"
  },
  "language_info": {
   "codemirror_mode": {
    "name": "ipython",
    "version": 3
   },
   "file_extension": ".py",
   "mimetype": "text/x-python",
   "name": "python",
   "nbconvert_exporter": "python",
   "pygments_lexer": "ipython3",
   "version": "3.6.0"
  }
 },
 "nbformat": 4,
 "nbformat_minor": 2
}
